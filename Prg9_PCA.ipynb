{
 "cells": [
  {
   "cell_type": "code",
   "execution_count": null,
   "metadata": {
    "colab": {
     "base_uri": "https://localhost:8080/"
    },
    "executionInfo": {
     "elapsed": 1004,
     "status": "ok",
     "timestamp": 1620284012509,
     "user": {
      "displayName": "Dr.Mydhili Nair",
      "photoUrl": "https://lh3.googleusercontent.com/a-/AOh14GjcigNBUEszxLTfvldBppcIxNYD_SvNO07iiU_v=s64",
      "userId": "00267933281365461047"
     },
     "user_tz": -330
    },
    "id": "1C8K35irrF9t",
    "outputId": "4a1d98f1-d1d2-48ef-87ac-35d4daf2c43c"
   },
   "outputs": [
    {
     "name": "stdout",
     "output_type": "stream",
     "text": [
      "[[47 11 22 24 23]\n",
      " [20 24 45 16 44]\n",
      " [20 33 10 44 17]\n",
      " [33 46 47 31 17]\n",
      " [44 15 42 35 29]\n",
      " [23 15 17 30 20]\n",
      " [35 16 20 32 49]\n",
      " [48 15 29 37 39]\n",
      " [15 33 32 26 14]\n",
      " [36 23 31 29 35]\n",
      " [40 38 22 36 36]\n",
      " [35 44 19 48 17]\n",
      " [11 26 47 24 46]\n",
      " [41 40 48 48 27]\n",
      " [45 32 12 18 44]\n",
      " [33 24 15 14 10]\n",
      " [18 26 25 23 11]\n",
      " [43 45 33 12 29]\n",
      " [33 47 31 13 47]\n",
      " [28 42 32 49 11]]\n"
     ]
    }
   ],
   "source": [
    "## Reference Source: https://www.askpython.com/python/examples/principal-component-analysis\n",
    "## Not for this program, but to understand PCA. \n",
    "\n",
    "import pandas as pd\n",
    "import numpy as np\n",
    "#Generate a dummy dataset.\n",
    "X = np.random.randint(10,50,100).reshape(20,5) \n",
    "print(X)\n"
   ]
  },
  {
   "cell_type": "code",
   "execution_count": null,
   "metadata": {
    "colab": {
     "base_uri": "https://localhost:8080/"
    },
    "executionInfo": {
     "elapsed": 1574,
     "status": "ok",
     "timestamp": 1620284013089,
     "user": {
      "displayName": "Dr.Mydhili Nair",
      "photoUrl": "https://lh3.googleusercontent.com/a-/AOh14GjcigNBUEszxLTfvldBppcIxNYD_SvNO07iiU_v=s64",
      "userId": "00267933281365461047"
     },
     "user_tz": -330
    },
    "id": "Jdks40bRr-j0",
    "outputId": "c8581536-a1ed-4153-b096-fe999a013fd6"
   },
   "outputs": [
    {
     "name": "stdout",
     "output_type": "stream",
     "text": [
      "[[ 14.6  -18.75  -6.95  -5.45  -5.25]\n",
      " [-12.4   -5.75  16.05 -13.45  15.75]\n",
      " [-12.4    3.25 -18.95  14.55 -11.25]\n",
      " [  0.6   16.25  18.05   1.55 -11.25]\n",
      " [ 11.6  -14.75  13.05   5.55   0.75]\n",
      " [ -9.4  -14.75 -11.95   0.55  -8.25]\n",
      " [  2.6  -13.75  -8.95   2.55  20.75]\n",
      " [ 15.6  -14.75   0.05   7.55  10.75]\n",
      " [-17.4    3.25   3.05  -3.45 -14.25]\n",
      " [  3.6   -6.75   2.05  -0.45   6.75]\n",
      " [  7.6    8.25  -6.95   6.55   7.75]\n",
      " [  2.6   14.25  -9.95  18.55 -11.25]\n",
      " [-21.4   -3.75  18.05  -5.45  17.75]\n",
      " [  8.6   10.25  19.05  18.55  -1.25]\n",
      " [ 12.6    2.25 -16.95 -11.45  15.75]\n",
      " [  0.6   -5.75 -13.95 -15.45 -18.25]\n",
      " [-14.4   -3.75  -3.95  -6.45 -17.25]\n",
      " [ 10.6   15.25   4.05 -17.45   0.75]\n",
      " [  0.6   17.25   2.05 -16.45  18.75]\n",
      " [ -4.4   12.25   3.05  19.55 -17.25]]\n"
     ]
    }
   ],
   "source": [
    "# mean Centering the data  \n",
    "X_meaned = X - np.mean(X , axis = 0)\n",
    "print(X_meaned)"
   ]
  },
  {
   "cell_type": "markdown",
   "metadata": {
    "id": "hgzNEPipc5Vu"
   },
   "source": []
  },
  {
   "cell_type": "code",
   "execution_count": null,
   "metadata": {
    "colab": {
     "base_uri": "https://localhost:8080/"
    },
    "executionInfo": {
     "elapsed": 1568,
     "status": "ok",
     "timestamp": 1620284013090,
     "user": {
      "displayName": "Dr.Mydhili Nair",
      "photoUrl": "https://lh3.googleusercontent.com/a-/AOh14GjcigNBUEszxLTfvldBppcIxNYD_SvNO07iiU_v=s64",
      "userId": "00267933281365461047"
     },
     "user_tz": -330
    },
    "id": "CE3f4b17rZWv",
    "outputId": "30c4d26c-0f7c-4ea3-bd53-c220bf71d657"
   },
   "outputs": [
    {
     "name": "stdout",
     "output_type": "stream",
     "text": [
      "[[126.56842105  -7.73684211 -15.50526316   9.6         32.15789474]\n",
      " [ -7.73684211 141.03947368  25.88157895  16.48684211 -25.46052632]\n",
      " [-15.50526316  25.88157895 145.31315789   1.12894737  31.17105263]\n",
      " [  9.6         16.48684211   1.12894737 140.05       -47.80263158]\n",
      " [ 32.15789474 -25.46052632  31.17105263 -47.80263158 180.19736842]]\n"
     ]
    }
   ],
   "source": [
    "# calculating the covariance matrix of the mean-centered data.\n",
    "cov_mat = np.cov(X_meaned , rowvar = False)\n",
    "print(cov_mat)"
   ]
  },
  {
   "cell_type": "code",
   "execution_count": null,
   "metadata": {
    "colab": {
     "base_uri": "https://localhost:8080/"
    },
    "executionInfo": {
     "elapsed": 1563,
     "status": "ok",
     "timestamp": 1620284013091,
     "user": {
      "displayName": "Dr.Mydhili Nair",
      "photoUrl": "https://lh3.googleusercontent.com/a-/AOh14GjcigNBUEszxLTfvldBppcIxNYD_SvNO07iiU_v=s64",
      "userId": "00267933281365461047"
     },
     "user_tz": -330
    },
    "id": "UPchwPKjsiHZ",
    "outputId": "34d1f9c4-e102-4bb1-891c-8e141da058c8"
   },
   "outputs": [
    {
     "name": "stdout",
     "output_type": "stream",
     "text": [
      "Eigen Values are [ 75.39958405 111.87193312 140.56434279 174.77677497 230.55578612]\n",
      "Eigen Vectors are [[-5.24185737e-01  2.51914418e-01  7.49417475e-01 -2.42554306e-01\n",
      "   2.03246884e-01]\n",
      " [ 2.15645543e-01  7.19331345e-01  1.70687323e-01  5.72278444e-01\n",
      "  -2.81820221e-01]\n",
      " [-4.44941979e-01 -4.23384041e-01  3.56492757e-02  7.70762475e-01\n",
      "   1.65610766e-01]\n",
      " [ 4.31759717e-01 -4.89742275e-01  6.05371670e-01  4.94670849e-02\n",
      "  -4.52564028e-01]\n",
      " [ 5.42527875e-01 -1.84435354e-06  2.03699671e-01  1.30931305e-01\n",
      "   8.04379849e-01]]\n"
     ]
    }
   ],
   "source": [
    "#Calculating Eigenvalues and Eigenvectors of the covariance matrix\n",
    "eigen_values , eigen_vectors = np.linalg.eigh(cov_mat)\n",
    "print(\"Eigen Values are\", eigen_values)\n",
    "print(\"Eigen Vectors are\", eigen_vectors)"
   ]
  },
  {
   "cell_type": "code",
   "execution_count": null,
   "metadata": {
    "colab": {
     "base_uri": "https://localhost:8080/"
    },
    "executionInfo": {
     "elapsed": 1557,
     "status": "ok",
     "timestamp": 1620284013092,
     "user": {
      "displayName": "Dr.Mydhili Nair",
      "photoUrl": "https://lh3.googleusercontent.com/a-/AOh14GjcigNBUEszxLTfvldBppcIxNYD_SvNO07iiU_v=s64",
      "userId": "00267933281365461047"
     },
     "user_tz": -330
    },
    "id": "NjMDM4FitDSZ",
    "outputId": "e152ae9b-bf77-4f17-f680-a583a89bfe12"
   },
   "outputs": [
    {
     "name": "stdout",
     "output_type": "stream",
     "text": [
      "The Sorted Eigen Values are [4 3 2 1 0]\n",
      "The Sorted Eigen Vectors are [[ 2.03246884e-01 -2.42554306e-01  7.49417475e-01  2.51914418e-01\n",
      "  -5.24185737e-01]\n",
      " [-2.81820221e-01  5.72278444e-01  1.70687323e-01  7.19331345e-01\n",
      "   2.15645543e-01]\n",
      " [ 1.65610766e-01  7.70762475e-01  3.56492757e-02 -4.23384041e-01\n",
      "  -4.44941979e-01]\n",
      " [-4.52564028e-01  4.94670849e-02  6.05371670e-01 -4.89742275e-01\n",
      "   4.31759717e-01]\n",
      " [ 8.04379849e-01  1.30931305e-01  2.03699671e-01 -1.84435354e-06\n",
      "   5.42527875e-01]]\n"
     ]
    }
   ],
   "source": [
    "#sort the eigenvalues in descending order\n",
    "sorted_index = np.argsort(eigen_values)[::-1]\n",
    "print(\"The Sorted Eigen Values are\", sorted_index)\n",
    "sorted_eigenvalue = eigen_values[sorted_index]\n",
    "#similarly sort the eigenvectors \n",
    "sorted_eigenvectors = eigen_vectors[:,sorted_index]\n",
    "print(\"The Sorted Eigen Vectors are\", sorted_eigenvectors)"
   ]
  },
  {
   "cell_type": "code",
   "execution_count": null,
   "metadata": {
    "colab": {
     "base_uri": "https://localhost:8080/"
    },
    "executionInfo": {
     "elapsed": 1551,
     "status": "ok",
     "timestamp": 1620284013094,
     "user": {
      "displayName": "Dr.Mydhili Nair",
      "photoUrl": "https://lh3.googleusercontent.com/a-/AOh14GjcigNBUEszxLTfvldBppcIxNYD_SvNO07iiU_v=s64",
      "userId": "00267933281365461047"
     },
     "user_tz": -330
    },
    "id": "8HrjICFRuSTn",
    "outputId": "7aa4bc69-1367-44d9-91ad-6fe4ce7e0eb1"
   },
   "outputs": [
    {
     "name": "stdout",
     "output_type": "stream",
     "text": [
      "[[ 0.20324688 -0.24255431]\n",
      " [-0.28182022  0.57227844]\n",
      " [ 0.16561077  0.77076247]\n",
      " [-0.45256403  0.04946708]\n",
      " [ 0.80437985  0.13093131]]\n"
     ]
    }
   ],
   "source": [
    "# select the first n eigenvectors, n is desired dimension\n",
    "# of our final reduced data.\n",
    " \n",
    "n_components = 2 #you can select any number of components.\n",
    "eigenvector_subset = sorted_eigenvectors[:,0:n_components]\n",
    "print(eigenvector_subset)"
   ]
  },
  {
   "cell_type": "code",
   "execution_count": null,
   "metadata": {
    "colab": {
     "base_uri": "https://localhost:8080/"
    },
    "executionInfo": {
     "elapsed": 1046,
     "status": "ok",
     "timestamp": 1620284038657,
     "user": {
      "displayName": "Dr.Mydhili Nair",
      "photoUrl": "https://lh3.googleusercontent.com/a-/AOh14GjcigNBUEszxLTfvldBppcIxNYD_SvNO07iiU_v=s64",
      "userId": "00267933281365461047"
     },
     "user_tz": -330
    },
    "id": "7fhFBxocuhwo",
    "outputId": "432599f3-2408-4397-d184-0d79e004a0b9"
   },
   "outputs": [
    {
     "name": "stdout",
     "output_type": "stream",
     "text": [
      "[[ 17.73521781  16.05041502]\n",
      " [ 32.90542575  50.12035869]\n",
      " [ -9.81738176  26.1441112 ]\n",
      " [  1.17209556  58.30566446]\n",
      " [ 19.15848638  35.81216697]\n",
      " [  5.77343417  20.21102835]\n",
      " [ 30.84929643  24.08088457]\n",
      " [ 24.95720439  26.2302848 ]\n",
      " [ -1.45716637  43.03045573]\n",
      " [ 20.99789438  34.34122706]\n",
      " [ 13.72951337  35.49552513]\n",
      " [-10.18846015  35.93559011]\n",
      " [ 28.83203236  55.64702857]\n",
      " [  5.00481274  55.85257532]\n",
      " [ 29.36175275  23.2985011 ]\n",
      " [  4.13552545  19.29367992]\n",
      " [ -1.089407    32.36031121]\n",
      " [ 19.41910863  45.14846936]\n",
      " [ 30.51805108  49.58327494]\n",
      " [-14.17345106  45.77270479]]\n"
     ]
    }
   ],
   "source": [
    "#Transform the data \n",
    "X_reduced = np.dot(eigenvector_subset.transpose(),X.transpose()).transpose()\n",
    "print(X_reduced)"
   ]
  },
  {
   "cell_type": "code",
   "execution_count": null,
   "metadata": {
    "id": "2kDQJFZguqnc"
   },
   "outputs": [],
   "source": []
  }
 ],
 "metadata": {
  "colab": {
   "authorship_tag": "ABX9TyNqmD5KMRslkJKafJ29dDtl",
   "collapsed_sections": [],
   "name": "Prg9_PCA.ipynb",
   "provenance": []
  },
  "kernelspec": {
   "display_name": "Python 3",
   "language": "python",
   "name": "python3"
  },
  "language_info": {
   "codemirror_mode": {
    "name": "ipython",
    "version": 3
   },
   "file_extension": ".py",
   "mimetype": "text/x-python",
   "name": "python",
   "nbconvert_exporter": "python",
   "pygments_lexer": "ipython3",
   "version": "3.8.5"
  }
 },
 "nbformat": 4,
 "nbformat_minor": 1
}
