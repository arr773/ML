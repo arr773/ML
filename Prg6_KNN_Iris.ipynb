{
 "cells": [
  {
   "cell_type": "code",
   "execution_count": 12,
   "metadata": {
    "colab": {
     "base_uri": "https://localhost:8080/",
     "height": 204
    },
    "executionInfo": {
     "elapsed": 353,
     "status": "ok",
     "timestamp": 1628252015381,
     "user": {
      "displayName": "Dr.Mydhili Nair",
      "photoUrl": "https://lh3.googleusercontent.com/a-/AOh14GjcigNBUEszxLTfvldBppcIxNYD_SvNO07iiU_v=s64",
      "userId": "00267933281365461047"
     },
     "user_tz": -330
    },
    "id": "rVsE-kuEh7LK",
    "outputId": "1641e1c3-81b2-4479-decc-9c3bff8cf891"
   },
   "outputs": [
    {
     "data": {
      "text/html": [
       "<div>\n",
       "<style scoped>\n",
       "    .dataframe tbody tr th:only-of-type {\n",
       "        vertical-align: middle;\n",
       "    }\n",
       "\n",
       "    .dataframe tbody tr th {\n",
       "        vertical-align: top;\n",
       "    }\n",
       "\n",
       "    .dataframe thead th {\n",
       "        text-align: right;\n",
       "    }\n",
       "</style>\n",
       "<table border=\"1\" class=\"dataframe\">\n",
       "  <thead>\n",
       "    <tr style=\"text-align: right;\">\n",
       "      <th></th>\n",
       "      <th>Sepal_Length</th>\n",
       "      <th>Sepal_Width</th>\n",
       "      <th>Petal_Length</th>\n",
       "      <th>Petal_Width</th>\n",
       "      <th>Class</th>\n",
       "    </tr>\n",
       "  </thead>\n",
       "  <tbody>\n",
       "    <tr>\n",
       "      <th>0</th>\n",
       "      <td>5.1</td>\n",
       "      <td>3.5</td>\n",
       "      <td>1.4</td>\n",
       "      <td>0.2</td>\n",
       "      <td>Iris-setosa</td>\n",
       "    </tr>\n",
       "    <tr>\n",
       "      <th>1</th>\n",
       "      <td>4.9</td>\n",
       "      <td>3.0</td>\n",
       "      <td>1.4</td>\n",
       "      <td>0.2</td>\n",
       "      <td>Iris-setosa</td>\n",
       "    </tr>\n",
       "    <tr>\n",
       "      <th>2</th>\n",
       "      <td>4.7</td>\n",
       "      <td>3.2</td>\n",
       "      <td>1.3</td>\n",
       "      <td>0.2</td>\n",
       "      <td>Iris-setosa</td>\n",
       "    </tr>\n",
       "    <tr>\n",
       "      <th>3</th>\n",
       "      <td>4.6</td>\n",
       "      <td>3.1</td>\n",
       "      <td>1.5</td>\n",
       "      <td>0.2</td>\n",
       "      <td>Iris-setosa</td>\n",
       "    </tr>\n",
       "    <tr>\n",
       "      <th>4</th>\n",
       "      <td>5.0</td>\n",
       "      <td>3.6</td>\n",
       "      <td>1.4</td>\n",
       "      <td>0.2</td>\n",
       "      <td>Iris-setosa</td>\n",
       "    </tr>\n",
       "  </tbody>\n",
       "</table>\n",
       "</div>"
      ],
      "text/plain": [
       "   Sepal_Length   Sepal_Width   Petal_Length   Petal_Width        Class\n",
       "0           5.1           3.5            1.4           0.2  Iris-setosa\n",
       "1           4.9           3.0            1.4           0.2  Iris-setosa\n",
       "2           4.7           3.2            1.3           0.2  Iris-setosa\n",
       "3           4.6           3.1            1.5           0.2  Iris-setosa\n",
       "4           5.0           3.6            1.4           0.2  Iris-setosa"
      ]
     },
     "execution_count": 12,
     "metadata": {
      "tags": []
     },
     "output_type": "execute_result"
    }
   ],
   "source": [
    "# Importing libraries\n",
    "import pandas as pd\n",
    "import numpy as np\n",
    "import math\n",
    "import operator\n",
    "data = pd.read_csv(\"/content/sample_data/iris.csv\")\n",
    "names = ['sepal-length', 'sepal-width', 'petal-length', 'petal-width', 'Class']\n",
    "#data = pd.read_csv(url, names=names)\n",
    "data.head()"
   ]
  },
  {
   "cell_type": "code",
   "execution_count": 13,
   "metadata": {
    "executionInfo": {
     "elapsed": 4,
     "status": "ok",
     "timestamp": 1628252015732,
     "user": {
      "displayName": "Dr.Mydhili Nair",
      "photoUrl": "https://lh3.googleusercontent.com/a-/AOh14GjcigNBUEszxLTfvldBppcIxNYD_SvNO07iiU_v=s64",
      "userId": "00267933281365461047"
     },
     "user_tz": -330
    },
    "id": "NDr6_xA7nb9F"
   },
   "outputs": [],
   "source": [
    "def euclideanDistance(data1, data2, length):\n",
    "  distance = 0\n",
    "  for x in range(length):\n",
    "    distance += np.square(data1[x] - data2[x])\n",
    "    return np.sqrt(distance)"
   ]
  },
  {
   "cell_type": "code",
   "execution_count": 14,
   "metadata": {
    "executionInfo": {
     "elapsed": 3,
     "status": "ok",
     "timestamp": 1628252015732,
     "user": {
      "displayName": "Dr.Mydhili Nair",
      "photoUrl": "https://lh3.googleusercontent.com/a-/AOh14GjcigNBUEszxLTfvldBppcIxNYD_SvNO07iiU_v=s64",
      "userId": "00267933281365461047"
     },
     "user_tz": -330
    },
    "id": "B9Lp77ERn39k"
   },
   "outputs": [],
   "source": [
    "def knn(trainingSet, testInstance, k):\n",
    "  distances = {}\n",
    "  sort = {}\n",
    "  length = testInstance.shape[1]\n",
    "#### Start of STEP 3\n",
    "# Calculating euclidean distance between each row of training data and test\n",
    "  for x in range(len(trainingSet)):\n",
    "#### Start of STEP 3.1\n",
    "    dist = euclideanDistance(testInstance, trainingSet.iloc[x], length)\n",
    "    distances[x] = dist[0]\n",
    "#### End of STEP 3.1\n",
    "#### Start of STEP 3.2\n",
    "# Sorting them on the basis of distance\n",
    "    sorted_d = sorted(distances.items(), key=operator.itemgetter(1))\n",
    "#### End of STEP 3.2\n",
    "    neighbors = []\n",
    "#### Start of STEP 3.3\n",
    "# Extracting top k neighbors\n",
    "  for x in range(k):\n",
    "    neighbors.append(sorted_d[x][0])\n",
    "#### End of STEP 3.3\n",
    "    classVotes = {}\n",
    "#### Start of STEP 3.4\n",
    "# Calculating the most freq class in the neighbors\n",
    "  for x in range(len(neighbors)):\n",
    "    response = trainingSet.iloc[neighbors[x]][-1]\n",
    "    if response in classVotes:\n",
    "      classVotes[response] += 1\n",
    "    else:\n",
    "      classVotes[response] = 1\n",
    "#### End of STEP 3.4\n",
    "#### Start of STEP 3.5\n",
    "    sortedVotes = sorted(classVotes.items(), key=operator.itemgetter(1))\n",
    "    return(sortedVotes[0][0], neighbors)\n",
    "#### End of STEP 3.5"
   ]
  },
  {
   "cell_type": "code",
   "execution_count": 15,
   "metadata": {
    "executionInfo": {
     "elapsed": 518,
     "status": "ok",
     "timestamp": 1628252016247,
     "user": {
      "displayName": "Dr.Mydhili Nair",
      "photoUrl": "https://lh3.googleusercontent.com/a-/AOh14GjcigNBUEszxLTfvldBppcIxNYD_SvNO07iiU_v=s64",
      "userId": "00267933281365461047"
     },
     "user_tz": -330
    },
    "id": "nbxpsN_co85B"
   },
   "outputs": [],
   "source": [
    "###Creating a dummy test dataset \n",
    "testSet = [[7.2, 3.6, 5.1, 2.5]]\n",
    "test = pd.DataFrame(testSet)"
   ]
  },
  {
   "cell_type": "code",
   "execution_count": 16,
   "metadata": {
    "colab": {
     "base_uri": "https://localhost:8080/"
    },
    "executionInfo": {
     "elapsed": 16,
     "status": "ok",
     "timestamp": 1628252016248,
     "user": {
      "displayName": "Dr.Mydhili Nair",
      "photoUrl": "https://lh3.googleusercontent.com/a-/AOh14GjcigNBUEszxLTfvldBppcIxNYD_SvNO07iiU_v=s64",
      "userId": "00267933281365461047"
     },
     "user_tz": -330
    },
    "id": "SnaQz7VzpIWT",
    "outputId": "efdd9d5f-5091-450b-8e89-dcf2ad543552"
   },
   "outputs": [
    {
     "name": "stdout",
     "output_type": "stream",
     "text": [
      "Iris-virginica\n"
     ]
    }
   ],
   "source": [
    "k = 1\n",
    "#### End of STEP 2\n",
    "# Running KNN model\n",
    "result,neigh = knn(data, test, k)\n",
    "# Predicted class\n",
    "print(result)"
   ]
  },
  {
   "cell_type": "code",
   "execution_count": 17,
   "metadata": {
    "colab": {
     "base_uri": "https://localhost:8080/"
    },
    "executionInfo": {
     "elapsed": 14,
     "status": "ok",
     "timestamp": 1628252016248,
     "user": {
      "displayName": "Dr.Mydhili Nair",
      "photoUrl": "https://lh3.googleusercontent.com/a-/AOh14GjcigNBUEszxLTfvldBppcIxNYD_SvNO07iiU_v=s64",
      "userId": "00267933281365461047"
     },
     "user_tz": -330
    },
    "id": "dkmzvCCYqE1f",
    "outputId": "9249714c-d92f-434d-c2cc-6d04035f5250"
   },
   "outputs": [
    {
     "name": "stdout",
     "output_type": "stream",
     "text": [
      "[109]\n"
     ]
    }
   ],
   "source": [
    "print(neigh)"
   ]
  },
  {
   "cell_type": "code",
   "execution_count": 18,
   "metadata": {
    "colab": {
     "base_uri": "https://localhost:8080/"
    },
    "executionInfo": {
     "elapsed": 12,
     "status": "ok",
     "timestamp": 1628252016248,
     "user": {
      "displayName": "Dr.Mydhili Nair",
      "photoUrl": "https://lh3.googleusercontent.com/a-/AOh14GjcigNBUEszxLTfvldBppcIxNYD_SvNO07iiU_v=s64",
      "userId": "00267933281365461047"
     },
     "user_tz": -330
    },
    "id": "7a_1eIHtqMvB",
    "outputId": "491edaf5-9882-46fc-bec3-5edb411c7767"
   },
   "outputs": [
    {
     "name": "stdout",
     "output_type": "stream",
     "text": [
      "Iris-virginica\n"
     ]
    }
   ],
   "source": [
    "k = 3\n",
    "# Running KNN model\n",
    "result,neigh = knn(data, test, k)\n",
    "# Predicted class\n",
    "print(result)"
   ]
  },
  {
   "cell_type": "code",
   "execution_count": 19,
   "metadata": {
    "colab": {
     "base_uri": "https://localhost:8080/"
    },
    "executionInfo": {
     "elapsed": 11,
     "status": "ok",
     "timestamp": 1628252016249,
     "user": {
      "displayName": "Dr.Mydhili Nair",
      "photoUrl": "https://lh3.googleusercontent.com/a-/AOh14GjcigNBUEszxLTfvldBppcIxNYD_SvNO07iiU_v=s64",
      "userId": "00267933281365461047"
     },
     "user_tz": -330
    },
    "id": "3uLCGtgZqRAE",
    "outputId": "61e6e9f2-f313-4555-c5f3-4fff4164ba8e"
   },
   "outputs": [
    {
     "name": "stdout",
     "output_type": "stream",
     "text": [
      "[109, 125, 129]\n"
     ]
    }
   ],
   "source": [
    "print(neigh)"
   ]
  },
  {
   "cell_type": "code",
   "execution_count": 20,
   "metadata": {
    "colab": {
     "base_uri": "https://localhost:8080/"
    },
    "executionInfo": {
     "elapsed": 9,
     "status": "ok",
     "timestamp": 1628252016249,
     "user": {
      "displayName": "Dr.Mydhili Nair",
      "photoUrl": "https://lh3.googleusercontent.com/a-/AOh14GjcigNBUEszxLTfvldBppcIxNYD_SvNO07iiU_v=s64",
      "userId": "00267933281365461047"
     },
     "user_tz": -330
    },
    "id": "gvS0VCGDqYLK",
    "outputId": "d94fa7c2-1473-4730-86a0-4e47b576e9ac"
   },
   "outputs": [
    {
     "name": "stdout",
     "output_type": "stream",
     "text": [
      "Iris-virginica\n"
     ]
    }
   ],
   "source": [
    "k = 5\n",
    "#### End of STEP 2\n",
    "# Running KNN model\n",
    "result,neigh = knn(data, test, k)\n",
    "# Predicted class\n",
    "print(result)"
   ]
  },
  {
   "cell_type": "code",
   "execution_count": 21,
   "metadata": {
    "colab": {
     "base_uri": "https://localhost:8080/"
    },
    "executionInfo": {
     "elapsed": 8,
     "status": "ok",
     "timestamp": 1628252016250,
     "user": {
      "displayName": "Dr.Mydhili Nair",
      "photoUrl": "https://lh3.googleusercontent.com/a-/AOh14GjcigNBUEszxLTfvldBppcIxNYD_SvNO07iiU_v=s64",
      "userId": "00267933281365461047"
     },
     "user_tz": -330
    },
    "id": "oKu19hlrqeBT",
    "outputId": "361ea999-5dd5-4073-ff83-8f15161e09b3"
   },
   "outputs": [
    {
     "name": "stdout",
     "output_type": "stream",
     "text": [
      "[109, 125, 129, 107, 102]\n"
     ]
    }
   ],
   "source": [
    "print(neigh)"
   ]
  }
 ],
 "metadata": {
  "colab": {
   "collapsed_sections": [],
   "name": "Prg6_KNN_Iris.ipynb",
   "provenance": []
  },
  "kernelspec": {
   "display_name": "Python 3",
   "language": "python",
   "name": "python3"
  },
  "language_info": {
   "codemirror_mode": {
    "name": "ipython",
    "version": 3
   },
   "file_extension": ".py",
   "mimetype": "text/x-python",
   "name": "python",
   "nbconvert_exporter": "python",
   "pygments_lexer": "ipython3",
   "version": "3.8.5"
  }
 },
 "nbformat": 4,
 "nbformat_minor": 1
}
